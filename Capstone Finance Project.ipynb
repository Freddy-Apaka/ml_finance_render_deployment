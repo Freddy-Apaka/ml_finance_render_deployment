{
 "cells": [
  {
   "cell_type": "code",
   "execution_count": 2,
   "id": "0bdfcc24",
   "metadata": {},
   "outputs": [
    {
     "name": "stdout",
     "output_type": "stream",
     "text": [
      "Requirement already satisfied: pandas in /Library/Frameworks/Python.framework/Versions/3.13/lib/python3.13/site-packages (2.3.0)\n",
      "Requirement already satisfied: numpy in /Library/Frameworks/Python.framework/Versions/3.13/lib/python3.13/site-packages (2.2.4)\n",
      "Requirement already satisfied: scikit-learn in /Library/Frameworks/Python.framework/Versions/3.13/lib/python3.13/site-packages (1.6.1)\n",
      "Requirement already satisfied: matplotlib in /Library/Frameworks/Python.framework/Versions/3.13/lib/python3.13/site-packages (3.10.1)\n",
      "Requirement already satisfied: seaborn in /Library/Frameworks/Python.framework/Versions/3.13/lib/python3.13/site-packages (0.13.2)\n",
      "Requirement already satisfied: joblib in /Library/Frameworks/Python.framework/Versions/3.13/lib/python3.13/site-packages (1.5.0)\n",
      "Requirement already satisfied: python-dateutil>=2.8.2 in /Library/Frameworks/Python.framework/Versions/3.13/lib/python3.13/site-packages (from pandas) (2.9.0.post0)\n",
      "Requirement already satisfied: pytz>=2020.1 in /Library/Frameworks/Python.framework/Versions/3.13/lib/python3.13/site-packages (from pandas) (2025.2)\n",
      "Requirement already satisfied: tzdata>=2022.7 in /Library/Frameworks/Python.framework/Versions/3.13/lib/python3.13/site-packages (from pandas) (2025.2)\n",
      "Requirement already satisfied: scipy>=1.6.0 in /Library/Frameworks/Python.framework/Versions/3.13/lib/python3.13/site-packages (from scikit-learn) (1.15.3)\n",
      "Requirement already satisfied: threadpoolctl>=3.1.0 in /Library/Frameworks/Python.framework/Versions/3.13/lib/python3.13/site-packages (from scikit-learn) (3.6.0)\n",
      "Requirement already satisfied: contourpy>=1.0.1 in /Library/Frameworks/Python.framework/Versions/3.13/lib/python3.13/site-packages (from matplotlib) (1.3.2)\n",
      "Requirement already satisfied: cycler>=0.10 in /Library/Frameworks/Python.framework/Versions/3.13/lib/python3.13/site-packages (from matplotlib) (0.12.1)\n",
      "Requirement already satisfied: fonttools>=4.22.0 in /Library/Frameworks/Python.framework/Versions/3.13/lib/python3.13/site-packages (from matplotlib) (4.57.0)\n",
      "Requirement already satisfied: kiwisolver>=1.3.1 in /Library/Frameworks/Python.framework/Versions/3.13/lib/python3.13/site-packages (from matplotlib) (1.4.8)\n",
      "Requirement already satisfied: packaging>=20.0 in /Library/Frameworks/Python.framework/Versions/3.13/lib/python3.13/site-packages (from matplotlib) (25.0)\n",
      "Requirement already satisfied: pillow>=8 in /Library/Frameworks/Python.framework/Versions/3.13/lib/python3.13/site-packages (from matplotlib) (11.2.1)\n",
      "Requirement already satisfied: pyparsing>=2.3.1 in /Library/Frameworks/Python.framework/Versions/3.13/lib/python3.13/site-packages (from matplotlib) (3.2.3)\n",
      "Requirement already satisfied: six>=1.5 in /Library/Frameworks/Python.framework/Versions/3.13/lib/python3.13/site-packages (from python-dateutil>=2.8.2->pandas) (1.17.0)\n",
      "\n",
      "\u001b[1m[\u001b[0m\u001b[34;49mnotice\u001b[0m\u001b[1;39;49m]\u001b[0m\u001b[39;49m A new release of pip is available: \u001b[0m\u001b[31;49m25.1.1\u001b[0m\u001b[39;49m -> \u001b[0m\u001b[32;49m25.2\u001b[0m\n",
      "\u001b[1m[\u001b[0m\u001b[34;49mnotice\u001b[0m\u001b[1;39;49m]\u001b[0m\u001b[39;49m To update, run: \u001b[0m\u001b[32;49mpip install --upgrade pip\u001b[0m\n",
      "Note: you may need to restart the kernel to use updated packages.\n"
     ]
    }
   ],
   "source": [
    "pip install pandas numpy scikit-learn matplotlib seaborn joblib"
   ]
  },
  {
   "cell_type": "code",
   "execution_count": 3,
   "id": "12361a91-9b98-431a-83f1-9bcdbeb65355",
   "metadata": {},
   "outputs": [],
   "source": [
    "import pandas as pd\n",
    "import numpy as np\n",
    "from sklearn.preprocessing import LabelEncoder"
   ]
  },
  {
   "cell_type": "code",
   "execution_count": 4,
   "id": "ea1b4b3f-0be3-4630-a4e2-58435cc912ae",
   "metadata": {},
   "outputs": [],
   "source": [
    "df = pd.read_csv(\"https://raw.githubusercontent.com/Freddy-Apaka/Finance_Prefiction_model/refs/heads/ml-deployment/loan.csv\")"
   ]
  },
  {
   "cell_type": "code",
   "execution_count": 5,
   "id": "e9d402d0-07b6-49b3-81b9-98744c4d69c8",
   "metadata": {},
   "outputs": [
    {
     "name": "stdout",
     "output_type": "stream",
     "text": [
      "<class 'pandas.core.frame.DataFrame'>\n",
      "RangeIndex: 5000 entries, 0 to 4999\n",
      "Data columns (total 17 columns):\n",
      " #   Column             Non-Null Count  Dtype  \n",
      "---  ------             --------------  -----  \n",
      " 0   customer_id        5000 non-null   object \n",
      " 1   loan_id            5000 non-null   object \n",
      " 2   loan_type          5000 non-null   object \n",
      " 3   loan_amount        5000 non-null   int64  \n",
      " 4   interest_rate      5000 non-null   float64\n",
      " 5   loan_term          5000 non-null   int64  \n",
      " 6   employment_type    5000 non-null   object \n",
      " 7   income_level       5000 non-null   object \n",
      " 8   credit_score       5000 non-null   int64  \n",
      " 9   gender             5000 non-null   object \n",
      " 10  marital_status     5000 non-null   object \n",
      " 11  education_level    5000 non-null   object \n",
      " 12  application_date   5000 non-null   object \n",
      " 13  approval_date      5000 non-null   object \n",
      " 14  disbursement_date  5000 non-null   object \n",
      " 15  due_date           5000 non-null   object \n",
      " 16  default_status     5000 non-null   bool   \n",
      "dtypes: bool(1), float64(1), int64(3), object(12)\n",
      "memory usage: 630.0+ KB\n"
     ]
    }
   ],
   "source": [
    "df.info()\n"
   ]
  },
  {
   "cell_type": "code",
   "execution_count": 6,
   "id": "f630d86f-3200-40ef-9f60-a75e327b4c35",
   "metadata": {},
   "outputs": [
    {
     "name": "stdout",
     "output_type": "stream",
     "text": [
      "Variable       Type         Data/Info\n",
      "-------------------------------------\n",
      "LabelEncoder   type         <class 'sklearn.preproces<...>ing._label.LabelEncoder'>\n",
      "df             DataFrame            customer_id     l<...>n[5000 rows x 17 columns]\n",
      "np             module       <module 'numpy' from '/Li<...>kages/numpy/__init__.py'>\n",
      "pd             module       <module 'pandas' from '/L<...>ages/pandas/__init__.py'>\n"
     ]
    }
   ],
   "source": [
    "%whos"
   ]
  },
  {
   "cell_type": "code",
   "execution_count": 7,
   "id": "8b538327-89b7-4d3c-a277-3d14089cca0f",
   "metadata": {},
   "outputs": [
    {
     "data": {
      "text/html": [
       "<div>\n",
       "<style scoped>\n",
       "    .dataframe tbody tr th:only-of-type {\n",
       "        vertical-align: middle;\n",
       "    }\n",
       "\n",
       "    .dataframe tbody tr th {\n",
       "        vertical-align: top;\n",
       "    }\n",
       "\n",
       "    .dataframe thead th {\n",
       "        text-align: right;\n",
       "    }\n",
       "</style>\n",
       "<table border=\"1\" class=\"dataframe\">\n",
       "  <thead>\n",
       "    <tr style=\"text-align: right;\">\n",
       "      <th></th>\n",
       "      <th>customer_id</th>\n",
       "      <th>loan_id</th>\n",
       "      <th>loan_type</th>\n",
       "      <th>loan_amount</th>\n",
       "      <th>interest_rate</th>\n",
       "      <th>loan_term</th>\n",
       "      <th>employment_type</th>\n",
       "      <th>income_level</th>\n",
       "      <th>credit_score</th>\n",
       "      <th>gender</th>\n",
       "      <th>marital_status</th>\n",
       "      <th>education_level</th>\n",
       "      <th>application_date</th>\n",
       "      <th>approval_date</th>\n",
       "      <th>disbursement_date</th>\n",
       "      <th>due_date</th>\n",
       "      <th>default_status</th>\n",
       "    </tr>\n",
       "  </thead>\n",
       "  <tbody>\n",
       "    <tr>\n",
       "      <th>0</th>\n",
       "      <td>CUST-00004912</td>\n",
       "      <td>LN00004170</td>\n",
       "      <td>Car Loan</td>\n",
       "      <td>16795</td>\n",
       "      <td>0.051852</td>\n",
       "      <td>15</td>\n",
       "      <td>Self-employed</td>\n",
       "      <td>Medium</td>\n",
       "      <td>833</td>\n",
       "      <td>Male</td>\n",
       "      <td>Single</td>\n",
       "      <td>Master</td>\n",
       "      <td>05-04-2018</td>\n",
       "      <td>23-04-2018</td>\n",
       "      <td>24-04-2018</td>\n",
       "      <td>14-08-2018</td>\n",
       "      <td>False</td>\n",
       "    </tr>\n",
       "    <tr>\n",
       "      <th>1</th>\n",
       "      <td>CUST-00004194</td>\n",
       "      <td>LN00002413</td>\n",
       "      <td>Personal Loan</td>\n",
       "      <td>1860</td>\n",
       "      <td>0.089296</td>\n",
       "      <td>56</td>\n",
       "      <td>Full-time</td>\n",
       "      <td>Medium</td>\n",
       "      <td>776</td>\n",
       "      <td>Female</td>\n",
       "      <td>Married</td>\n",
       "      <td>Bachelor</td>\n",
       "      <td>30-12-2022</td>\n",
       "      <td>31-12-2022</td>\n",
       "      <td>12-01-2023</td>\n",
       "      <td>05-04-2023</td>\n",
       "      <td>False</td>\n",
       "    </tr>\n",
       "    <tr>\n",
       "      <th>2</th>\n",
       "      <td>CUST-00003610</td>\n",
       "      <td>LN00000024</td>\n",
       "      <td>Personal Loan</td>\n",
       "      <td>77820</td>\n",
       "      <td>0.070470</td>\n",
       "      <td>51</td>\n",
       "      <td>Full-time</td>\n",
       "      <td>Low</td>\n",
       "      <td>697</td>\n",
       "      <td>Male</td>\n",
       "      <td>Divorced</td>\n",
       "      <td>High School</td>\n",
       "      <td>15-11-2019</td>\n",
       "      <td>18-11-2019</td>\n",
       "      <td>27-11-2019</td>\n",
       "      <td>24-02-2020</td>\n",
       "      <td>False</td>\n",
       "    </tr>\n",
       "    <tr>\n",
       "      <th>3</th>\n",
       "      <td>CUST-00001895</td>\n",
       "      <td>LN00001742</td>\n",
       "      <td>Car Loan</td>\n",
       "      <td>55886</td>\n",
       "      <td>0.062155</td>\n",
       "      <td>30</td>\n",
       "      <td>Full-time</td>\n",
       "      <td>Low</td>\n",
       "      <td>795</td>\n",
       "      <td>Female</td>\n",
       "      <td>Married</td>\n",
       "      <td>PhD</td>\n",
       "      <td>25-08-2021</td>\n",
       "      <td>08-09-2021</td>\n",
       "      <td>11-09-2021</td>\n",
       "      <td>25-02-2022</td>\n",
       "      <td>False</td>\n",
       "    </tr>\n",
       "    <tr>\n",
       "      <th>4</th>\n",
       "      <td>CUST-00003782</td>\n",
       "      <td>LN00003161</td>\n",
       "      <td>Home Loan</td>\n",
       "      <td>7265</td>\n",
       "      <td>0.070635</td>\n",
       "      <td>48</td>\n",
       "      <td>Part-time</td>\n",
       "      <td>Low</td>\n",
       "      <td>519</td>\n",
       "      <td>Female</td>\n",
       "      <td>Married</td>\n",
       "      <td>High School</td>\n",
       "      <td>02-09-2020</td>\n",
       "      <td>07-09-2020</td>\n",
       "      <td>11-09-2020</td>\n",
       "      <td>29-12-2020</td>\n",
       "      <td>False</td>\n",
       "    </tr>\n",
       "    <tr>\n",
       "      <th>...</th>\n",
       "      <td>...</td>\n",
       "      <td>...</td>\n",
       "      <td>...</td>\n",
       "      <td>...</td>\n",
       "      <td>...</td>\n",
       "      <td>...</td>\n",
       "      <td>...</td>\n",
       "      <td>...</td>\n",
       "      <td>...</td>\n",
       "      <td>...</td>\n",
       "      <td>...</td>\n",
       "      <td>...</td>\n",
       "      <td>...</td>\n",
       "      <td>...</td>\n",
       "      <td>...</td>\n",
       "      <td>...</td>\n",
       "      <td>...</td>\n",
       "    </tr>\n",
       "    <tr>\n",
       "      <th>4995</th>\n",
       "      <td>CUST-00002992</td>\n",
       "      <td>LN00001103</td>\n",
       "      <td>Car Loan</td>\n",
       "      <td>37945</td>\n",
       "      <td>0.070087</td>\n",
       "      <td>57</td>\n",
       "      <td>Self-employed</td>\n",
       "      <td>High</td>\n",
       "      <td>511</td>\n",
       "      <td>Male</td>\n",
       "      <td>Married</td>\n",
       "      <td>PhD</td>\n",
       "      <td>23-01-2022</td>\n",
       "      <td>11-02-2022</td>\n",
       "      <td>14-02-2022</td>\n",
       "      <td>13-06-2022</td>\n",
       "      <td>False</td>\n",
       "    </tr>\n",
       "    <tr>\n",
       "      <th>4996</th>\n",
       "      <td>CUST-00004094</td>\n",
       "      <td>LN00001068</td>\n",
       "      <td>Personal Loan</td>\n",
       "      <td>48937</td>\n",
       "      <td>0.056405</td>\n",
       "      <td>50</td>\n",
       "      <td>Part-time</td>\n",
       "      <td>Medium</td>\n",
       "      <td>502</td>\n",
       "      <td>Male</td>\n",
       "      <td>Single</td>\n",
       "      <td>PhD</td>\n",
       "      <td>12-05-2018</td>\n",
       "      <td>17-05-2018</td>\n",
       "      <td>27-05-2018</td>\n",
       "      <td>20-11-2018</td>\n",
       "      <td>False</td>\n",
       "    </tr>\n",
       "    <tr>\n",
       "      <th>4997</th>\n",
       "      <td>CUST-00003903</td>\n",
       "      <td>LN00000745</td>\n",
       "      <td>Home Loan</td>\n",
       "      <td>7476</td>\n",
       "      <td>0.064212</td>\n",
       "      <td>58</td>\n",
       "      <td>Full-time</td>\n",
       "      <td>High</td>\n",
       "      <td>452</td>\n",
       "      <td>Female</td>\n",
       "      <td>Single</td>\n",
       "      <td>High School</td>\n",
       "      <td>14-10-2022</td>\n",
       "      <td>29-10-2022</td>\n",
       "      <td>06-11-2022</td>\n",
       "      <td>08-04-2023</td>\n",
       "      <td>True</td>\n",
       "    </tr>\n",
       "    <tr>\n",
       "      <th>4998</th>\n",
       "      <td>CUST-00002276</td>\n",
       "      <td>LN00003075</td>\n",
       "      <td>Car Loan</td>\n",
       "      <td>52756</td>\n",
       "      <td>0.094914</td>\n",
       "      <td>12</td>\n",
       "      <td>Self-employed</td>\n",
       "      <td>Medium</td>\n",
       "      <td>728</td>\n",
       "      <td>Male</td>\n",
       "      <td>Married</td>\n",
       "      <td>PhD</td>\n",
       "      <td>21-07-2018</td>\n",
       "      <td>06-08-2018</td>\n",
       "      <td>20-08-2018</td>\n",
       "      <td>21-01-2019</td>\n",
       "      <td>False</td>\n",
       "    </tr>\n",
       "    <tr>\n",
       "      <th>4999</th>\n",
       "      <td>CUST-00003583</td>\n",
       "      <td>LN00002491</td>\n",
       "      <td>Personal Loan</td>\n",
       "      <td>91101</td>\n",
       "      <td>0.083821</td>\n",
       "      <td>52</td>\n",
       "      <td>Self-employed</td>\n",
       "      <td>Low</td>\n",
       "      <td>586</td>\n",
       "      <td>Male</td>\n",
       "      <td>Single</td>\n",
       "      <td>Master</td>\n",
       "      <td>03-08-2021</td>\n",
       "      <td>04-08-2021</td>\n",
       "      <td>07-08-2021</td>\n",
       "      <td>25-12-2021</td>\n",
       "      <td>False</td>\n",
       "    </tr>\n",
       "  </tbody>\n",
       "</table>\n",
       "<p>5000 rows × 17 columns</p>\n",
       "</div>"
      ],
      "text/plain": [
       "        customer_id     loan_id      loan_type  loan_amount  interest_rate  \\\n",
       "0     CUST-00004912  LN00004170       Car Loan        16795       0.051852   \n",
       "1     CUST-00004194  LN00002413  Personal Loan         1860       0.089296   \n",
       "2     CUST-00003610  LN00000024  Personal Loan        77820       0.070470   \n",
       "3     CUST-00001895  LN00001742       Car Loan        55886       0.062155   \n",
       "4     CUST-00003782  LN00003161      Home Loan         7265       0.070635   \n",
       "...             ...         ...            ...          ...            ...   \n",
       "4995  CUST-00002992  LN00001103       Car Loan        37945       0.070087   \n",
       "4996  CUST-00004094  LN00001068  Personal Loan        48937       0.056405   \n",
       "4997  CUST-00003903  LN00000745      Home Loan         7476       0.064212   \n",
       "4998  CUST-00002276  LN00003075       Car Loan        52756       0.094914   \n",
       "4999  CUST-00003583  LN00002491  Personal Loan        91101       0.083821   \n",
       "\n",
       "      loan_term employment_type income_level  credit_score  gender  \\\n",
       "0            15   Self-employed       Medium           833    Male   \n",
       "1            56       Full-time       Medium           776  Female   \n",
       "2            51       Full-time          Low           697    Male   \n",
       "3            30       Full-time          Low           795  Female   \n",
       "4            48       Part-time          Low           519  Female   \n",
       "...         ...             ...          ...           ...     ...   \n",
       "4995         57   Self-employed         High           511    Male   \n",
       "4996         50       Part-time       Medium           502    Male   \n",
       "4997         58       Full-time         High           452  Female   \n",
       "4998         12   Self-employed       Medium           728    Male   \n",
       "4999         52   Self-employed          Low           586    Male   \n",
       "\n",
       "     marital_status education_level application_date approval_date  \\\n",
       "0            Single          Master       05-04-2018    23-04-2018   \n",
       "1           Married        Bachelor       30-12-2022    31-12-2022   \n",
       "2          Divorced     High School       15-11-2019    18-11-2019   \n",
       "3           Married             PhD       25-08-2021    08-09-2021   \n",
       "4           Married     High School       02-09-2020    07-09-2020   \n",
       "...             ...             ...              ...           ...   \n",
       "4995        Married             PhD       23-01-2022    11-02-2022   \n",
       "4996         Single             PhD       12-05-2018    17-05-2018   \n",
       "4997         Single     High School       14-10-2022    29-10-2022   \n",
       "4998        Married             PhD       21-07-2018    06-08-2018   \n",
       "4999         Single          Master       03-08-2021    04-08-2021   \n",
       "\n",
       "     disbursement_date    due_date  default_status  \n",
       "0           24-04-2018  14-08-2018           False  \n",
       "1           12-01-2023  05-04-2023           False  \n",
       "2           27-11-2019  24-02-2020           False  \n",
       "3           11-09-2021  25-02-2022           False  \n",
       "4           11-09-2020  29-12-2020           False  \n",
       "...                ...         ...             ...  \n",
       "4995        14-02-2022  13-06-2022           False  \n",
       "4996        27-05-2018  20-11-2018           False  \n",
       "4997        06-11-2022  08-04-2023            True  \n",
       "4998        20-08-2018  21-01-2019           False  \n",
       "4999        07-08-2021  25-12-2021           False  \n",
       "\n",
       "[5000 rows x 17 columns]"
      ]
     },
     "execution_count": 7,
     "metadata": {},
     "output_type": "execute_result"
    }
   ],
   "source": [
    "# dropping null value & creating a copy of the dataframe\n",
    "\n",
    "df.dropna()"
   ]
  },
  {
   "cell_type": "code",
   "execution_count": 8,
   "id": "9c7355d7-19bc-4673-bcf9-c9e36c66027e",
   "metadata": {},
   "outputs": [],
   "source": [
    "#encoding the default_status column\n",
    "\n",
    "encoder = LabelEncoder()\n",
    "#df[\"marital_status_encoded\"] = encoder.fit_transform(df[\"marital_status\"])\n",
    "df[\"employment_type_encoded\"] = encoder.fit_transform(df[\"employment_type\"])\n",
    "#df[\"loan_type_encoded\"] = encoder.fit_transform(df[\"loan_type\"])\n",
    "df[\"income_level_encoded\"] = encoder.fit_transform(df[\"income_level\"])"
   ]
  },
  {
   "cell_type": "code",
   "execution_count": 9,
   "id": "47346c85-5e74-4d78-bdfa-5b4b2b24135d",
   "metadata": {},
   "outputs": [],
   "source": [
    "# dropping all non numerical data \n",
    "\n",
    "columns_to_drop = ['customer_id','loan_id','loan_type','income_level','employment_type','gender','marital_status','education_level','application_date','approval_date','disbursement_date','due_date','loan_term', ]\n",
    "df.drop(columns_to_drop, axis=1, inplace=True)"
   ]
  },
  {
   "cell_type": "code",
   "execution_count": 10,
   "id": "b685dd13-1997-433c-bda6-ff9819a8f6fe",
   "metadata": {},
   "outputs": [
    {
     "data": {
      "text/html": [
       "<div>\n",
       "<style scoped>\n",
       "    .dataframe tbody tr th:only-of-type {\n",
       "        vertical-align: middle;\n",
       "    }\n",
       "\n",
       "    .dataframe tbody tr th {\n",
       "        vertical-align: top;\n",
       "    }\n",
       "\n",
       "    .dataframe thead th {\n",
       "        text-align: right;\n",
       "    }\n",
       "</style>\n",
       "<table border=\"1\" class=\"dataframe\">\n",
       "  <thead>\n",
       "    <tr style=\"text-align: right;\">\n",
       "      <th></th>\n",
       "      <th>loan_amount</th>\n",
       "      <th>interest_rate</th>\n",
       "      <th>credit_score</th>\n",
       "      <th>default_status</th>\n",
       "      <th>employment_type_encoded</th>\n",
       "      <th>income_level_encoded</th>\n",
       "    </tr>\n",
       "  </thead>\n",
       "  <tbody>\n",
       "    <tr>\n",
       "      <th>0</th>\n",
       "      <td>16795</td>\n",
       "      <td>0.051852</td>\n",
       "      <td>833</td>\n",
       "      <td>False</td>\n",
       "      <td>2</td>\n",
       "      <td>2</td>\n",
       "    </tr>\n",
       "    <tr>\n",
       "      <th>1</th>\n",
       "      <td>1860</td>\n",
       "      <td>0.089296</td>\n",
       "      <td>776</td>\n",
       "      <td>False</td>\n",
       "      <td>0</td>\n",
       "      <td>2</td>\n",
       "    </tr>\n",
       "    <tr>\n",
       "      <th>2</th>\n",
       "      <td>77820</td>\n",
       "      <td>0.070470</td>\n",
       "      <td>697</td>\n",
       "      <td>False</td>\n",
       "      <td>0</td>\n",
       "      <td>1</td>\n",
       "    </tr>\n",
       "    <tr>\n",
       "      <th>3</th>\n",
       "      <td>55886</td>\n",
       "      <td>0.062155</td>\n",
       "      <td>795</td>\n",
       "      <td>False</td>\n",
       "      <td>0</td>\n",
       "      <td>1</td>\n",
       "    </tr>\n",
       "    <tr>\n",
       "      <th>4</th>\n",
       "      <td>7265</td>\n",
       "      <td>0.070635</td>\n",
       "      <td>519</td>\n",
       "      <td>False</td>\n",
       "      <td>1</td>\n",
       "      <td>1</td>\n",
       "    </tr>\n",
       "  </tbody>\n",
       "</table>\n",
       "</div>"
      ],
      "text/plain": [
       "   loan_amount  interest_rate  credit_score  default_status  \\\n",
       "0        16795       0.051852           833           False   \n",
       "1         1860       0.089296           776           False   \n",
       "2        77820       0.070470           697           False   \n",
       "3        55886       0.062155           795           False   \n",
       "4         7265       0.070635           519           False   \n",
       "\n",
       "   employment_type_encoded  income_level_encoded  \n",
       "0                        2                     2  \n",
       "1                        0                     2  \n",
       "2                        0                     1  \n",
       "3                        0                     1  \n",
       "4                        1                     1  "
      ]
     },
     "execution_count": 10,
     "metadata": {},
     "output_type": "execute_result"
    }
   ],
   "source": [
    "df.head()"
   ]
  },
  {
   "cell_type": "code",
   "execution_count": 11,
   "id": "4950d942",
   "metadata": {},
   "outputs": [
    {
     "data": {
      "text/html": [
       "<div>\n",
       "<style scoped>\n",
       "    .dataframe tbody tr th:only-of-type {\n",
       "        vertical-align: middle;\n",
       "    }\n",
       "\n",
       "    .dataframe tbody tr th {\n",
       "        vertical-align: top;\n",
       "    }\n",
       "\n",
       "    .dataframe thead th {\n",
       "        text-align: right;\n",
       "    }\n",
       "</style>\n",
       "<table border=\"1\" class=\"dataframe\">\n",
       "  <thead>\n",
       "    <tr style=\"text-align: right;\">\n",
       "      <th></th>\n",
       "      <th>loan_amount</th>\n",
       "      <th>interest_rate</th>\n",
       "      <th>credit_score</th>\n",
       "      <th>employment_type_encoded</th>\n",
       "      <th>income_level_encoded</th>\n",
       "    </tr>\n",
       "  </thead>\n",
       "  <tbody>\n",
       "    <tr>\n",
       "      <th>count</th>\n",
       "      <td>5000.000000</td>\n",
       "      <td>5000.000000</td>\n",
       "      <td>5000.000000</td>\n",
       "      <td>5000.000000</td>\n",
       "      <td>5000.000000</td>\n",
       "    </tr>\n",
       "    <tr>\n",
       "      <th>mean</th>\n",
       "      <td>49929.868000</td>\n",
       "      <td>0.079579</td>\n",
       "      <td>573.206000</td>\n",
       "      <td>1.002000</td>\n",
       "      <td>1.011400</td>\n",
       "    </tr>\n",
       "    <tr>\n",
       "      <th>std</th>\n",
       "      <td>28721.249529</td>\n",
       "      <td>0.015230</td>\n",
       "      <td>158.647522</td>\n",
       "      <td>0.815922</td>\n",
       "      <td>0.810803</td>\n",
       "    </tr>\n",
       "    <tr>\n",
       "      <th>min</th>\n",
       "      <td>1055.000000</td>\n",
       "      <td>0.031685</td>\n",
       "      <td>300.000000</td>\n",
       "      <td>0.000000</td>\n",
       "      <td>0.000000</td>\n",
       "    </tr>\n",
       "    <tr>\n",
       "      <th>25%</th>\n",
       "      <td>24953.500000</td>\n",
       "      <td>0.069240</td>\n",
       "      <td>435.000000</td>\n",
       "      <td>0.000000</td>\n",
       "      <td>0.000000</td>\n",
       "    </tr>\n",
       "    <tr>\n",
       "      <th>50%</th>\n",
       "      <td>49730.000000</td>\n",
       "      <td>0.079533</td>\n",
       "      <td>571.000000</td>\n",
       "      <td>1.000000</td>\n",
       "      <td>1.000000</td>\n",
       "    </tr>\n",
       "    <tr>\n",
       "      <th>75%</th>\n",
       "      <td>75083.500000</td>\n",
       "      <td>0.089984</td>\n",
       "      <td>712.000000</td>\n",
       "      <td>2.000000</td>\n",
       "      <td>2.000000</td>\n",
       "    </tr>\n",
       "    <tr>\n",
       "      <th>max</th>\n",
       "      <td>99989.000000</td>\n",
       "      <td>0.138894</td>\n",
       "      <td>849.000000</td>\n",
       "      <td>2.000000</td>\n",
       "      <td>2.000000</td>\n",
       "    </tr>\n",
       "  </tbody>\n",
       "</table>\n",
       "</div>"
      ],
      "text/plain": [
       "        loan_amount  interest_rate  credit_score  employment_type_encoded  \\\n",
       "count   5000.000000    5000.000000   5000.000000              5000.000000   \n",
       "mean   49929.868000       0.079579    573.206000                 1.002000   \n",
       "std    28721.249529       0.015230    158.647522                 0.815922   \n",
       "min     1055.000000       0.031685    300.000000                 0.000000   \n",
       "25%    24953.500000       0.069240    435.000000                 0.000000   \n",
       "50%    49730.000000       0.079533    571.000000                 1.000000   \n",
       "75%    75083.500000       0.089984    712.000000                 2.000000   \n",
       "max    99989.000000       0.138894    849.000000                 2.000000   \n",
       "\n",
       "       income_level_encoded  \n",
       "count           5000.000000  \n",
       "mean               1.011400  \n",
       "std                0.810803  \n",
       "min                0.000000  \n",
       "25%                0.000000  \n",
       "50%                1.000000  \n",
       "75%                2.000000  \n",
       "max                2.000000  "
      ]
     },
     "execution_count": 11,
     "metadata": {},
     "output_type": "execute_result"
    }
   ],
   "source": [
    "df.describe()"
   ]
  },
  {
   "cell_type": "code",
   "execution_count": 12,
   "id": "0fd257f0-17c9-4adc-9dd4-9de3717424b4",
   "metadata": {},
   "outputs": [],
   "source": [
    "# Separeting the Default_status for Over sampling \n",
    "false_values = df[df['default_status']==False]\n",
    "true_values = df[df['default_status']==True]\n",
    "\n",
    "# Creating a variable with the same lenght as the over sampled\n",
    "over_true_values = len(false_values)"
   ]
  },
  {
   "cell_type": "code",
   "execution_count": 13,
   "id": "0cb7ac06-5294-4d25-951e-ffdb61cee030",
   "metadata": {},
   "outputs": [
    {
     "name": "stdout",
     "output_type": "stream",
     "text": [
      "Shape of Combined dataset: (8002, 6)\n",
      "Shape of Over Sample True Default Status: (4001, 6)\n",
      "Shape of False Default Status: (4001, 6)\n"
     ]
    }
   ],
   "source": [
    "# Over sampling the minority sample\n",
    "over_sample_true_values = true_values.sample(over_true_values, random_state=42,replace=True)\n",
    "\n",
    "# Joining the two sets in the DataFrame\n",
    "df2 = pd.concat([over_sample_true_values,false_values], axis=0)\n",
    "\n",
    "#Shape of each dataset\n",
    "print('Shape of Combined dataset:', df2.shape)\n",
    "print('Shape of Over Sample True Default Status:',over_sample_true_values.shape)\n",
    "print('Shape of False Default Status:',false_values.shape)"
   ]
  },
  {
   "cell_type": "code",
   "execution_count": 14,
   "id": "1fcaf0f3-b297-4810-ac2e-b664c7abdb2a",
   "metadata": {},
   "outputs": [
    {
     "data": {
      "text/html": [
       "<div>\n",
       "<style scoped>\n",
       "    .dataframe tbody tr th:only-of-type {\n",
       "        vertical-align: middle;\n",
       "    }\n",
       "\n",
       "    .dataframe tbody tr th {\n",
       "        vertical-align: top;\n",
       "    }\n",
       "\n",
       "    .dataframe thead th {\n",
       "        text-align: right;\n",
       "    }\n",
       "</style>\n",
       "<table border=\"1\" class=\"dataframe\">\n",
       "  <thead>\n",
       "    <tr style=\"text-align: right;\">\n",
       "      <th></th>\n",
       "      <th>loan_amount</th>\n",
       "      <th>interest_rate</th>\n",
       "      <th>credit_score</th>\n",
       "      <th>default_status</th>\n",
       "      <th>employment_type_encoded</th>\n",
       "      <th>income_level_encoded</th>\n",
       "    </tr>\n",
       "  </thead>\n",
       "  <tbody>\n",
       "    <tr>\n",
       "      <th>481</th>\n",
       "      <td>17964</td>\n",
       "      <td>0.082105</td>\n",
       "      <td>397</td>\n",
       "      <td>True</td>\n",
       "      <td>0</td>\n",
       "      <td>1</td>\n",
       "    </tr>\n",
       "    <tr>\n",
       "      <th>2128</th>\n",
       "      <td>2058</td>\n",
       "      <td>0.103890</td>\n",
       "      <td>448</td>\n",
       "      <td>True</td>\n",
       "      <td>0</td>\n",
       "      <td>0</td>\n",
       "    </tr>\n",
       "    <tr>\n",
       "      <th>4244</th>\n",
       "      <td>25820</td>\n",
       "      <td>0.116618</td>\n",
       "      <td>397</td>\n",
       "      <td>True</td>\n",
       "      <td>2</td>\n",
       "      <td>1</td>\n",
       "    </tr>\n",
       "    <tr>\n",
       "      <th>1246</th>\n",
       "      <td>71835</td>\n",
       "      <td>0.096363</td>\n",
       "      <td>514</td>\n",
       "      <td>True</td>\n",
       "      <td>2</td>\n",
       "      <td>1</td>\n",
       "    </tr>\n",
       "    <tr>\n",
       "      <th>497</th>\n",
       "      <td>96981</td>\n",
       "      <td>0.088753</td>\n",
       "      <td>550</td>\n",
       "      <td>True</td>\n",
       "      <td>0</td>\n",
       "      <td>1</td>\n",
       "    </tr>\n",
       "  </tbody>\n",
       "</table>\n",
       "</div>"
      ],
      "text/plain": [
       "      loan_amount  interest_rate  credit_score  default_status  \\\n",
       "481         17964       0.082105           397            True   \n",
       "2128         2058       0.103890           448            True   \n",
       "4244        25820       0.116618           397            True   \n",
       "1246        71835       0.096363           514            True   \n",
       "497         96981       0.088753           550            True   \n",
       "\n",
       "      employment_type_encoded  income_level_encoded  \n",
       "481                         0                     1  \n",
       "2128                        0                     0  \n",
       "4244                        2                     1  \n",
       "1246                        2                     1  \n",
       "497                         0                     1  "
      ]
     },
     "execution_count": 14,
     "metadata": {},
     "output_type": "execute_result"
    }
   ],
   "source": [
    "df2.head()"
   ]
  },
  {
   "cell_type": "code",
   "execution_count": 15,
   "id": "9a86a910-36ed-4b93-b089-b02bad98d1ee",
   "metadata": {},
   "outputs": [],
   "source": [
    "# splitting the dataframe into x & y for prediction\n",
    "\n",
    "X = df2.drop(\"default_status\", axis=1)\n",
    "y = df2[\"default_status\"]"
   ]
  },
  {
   "cell_type": "code",
   "execution_count": 16,
   "id": "a6ff9911-a01e-49d3-9623-cafcd24cb448",
   "metadata": {},
   "outputs": [],
   "source": [
    "# spliting the data\n",
    "from sklearn.model_selection import train_test_split\n",
    "\n",
    "X_train, X_test, y_train, y_test = train_test_split(X,y, stratify=y, test_size=0.2, random_state=42)"
   ]
  },
  {
   "cell_type": "code",
   "execution_count": 17,
   "id": "e3b5e0fe-c006-47c1-aa4c-e6b7c1f6af6c",
   "metadata": {},
   "outputs": [],
   "source": [
    "from sklearn.metrics import mean_squared_error, classification_report, r2_score, mean_absolute_error\n",
    "from sklearn.preprocessing import StandardScaler\n",
    "\n",
    "# training the data\n",
    "\n",
    "scaler = StandardScaler()\n",
    "X_train_scaled = scaler.fit_transform(X_train)\n",
    "X_test_scaled = scaler.transform(X_test)"
   ]
  },
  {
   "cell_type": "code",
   "execution_count": 18,
   "id": "2c2f11eb-3250-4a4c-a5b1-f1320ae2d176",
   "metadata": {},
   "outputs": [
    {
     "ename": "NameError",
     "evalue": "name 'x_test' is not defined",
     "output_type": "error",
     "traceback": [
      "\u001b[31m---------------------------------------------------------------------------\u001b[39m",
      "\u001b[31mNameError\u001b[39m                                 Traceback (most recent call last)",
      "\u001b[36mCell\u001b[39m\u001b[36m \u001b[39m\u001b[32mIn[18]\u001b[39m\u001b[32m, line 6\u001b[39m\n\u001b[32m      4\u001b[39m model = DecisionTreeClassifier(class_weight=\u001b[33m'\u001b[39m\u001b[33mbalanced\u001b[39m\u001b[33m'\u001b[39m,random_state=\u001b[32m42\u001b[39m)\n\u001b[32m      5\u001b[39m model.fit(X_train, y_train)\n\u001b[32m----> \u001b[39m\u001b[32m6\u001b[39m y_pred = model.predict(\u001b[43mx_test\u001b[49m)\n\u001b[32m      8\u001b[39m \u001b[38;5;28mprint\u001b[39m(\u001b[33m\"\u001b[39m\u001b[38;5;130;01m\\n\u001b[39;00m\u001b[33mClassification Report:\u001b[39m\u001b[38;5;130;01m\\n\u001b[39;00m\u001b[33m\"\u001b[39m,classification_report(y_test,y_pred))\n",
      "\u001b[31mNameError\u001b[39m: name 'x_test' is not defined"
     ]
    }
   ],
   "source": [
    "# trying to use Decision Tree for my modeling Prediction \n",
    "from sklearn.tree import DecisionTreeClassifier\n",
    "\n",
    "model = DecisionTreeClassifier(class_weight='balanced',random_state=42)\n",
    "model.fit(X_train, y_train)\n",
    "y_pred = model.predict(x_test)\n",
    "\n",
    "print(\"\\nClassification Report:\\n\",classification_report(y_test,y_pred))"
   ]
  },
  {
   "cell_type": "code",
   "execution_count": null,
   "id": "536ba2cc-44b4-4641-b799-41faa98b7d5a",
   "metadata": {},
   "outputs": [
    {
     "data": {
      "text/plain": [
       "<sklearn.metrics._plot.confusion_matrix.ConfusionMatrixDisplay at 0x112f48980>"
      ]
     },
     "execution_count": 30,
     "metadata": {},
     "output_type": "execute_result"
    },
    {
     "data": {
      "image/png": "[encoded data removed]",
      "text/plain": [
       "<Figure size 640x480 with 2 Axes>"
      ]
     },
     "metadata": {},
     "output_type": "display_data"
    }
   ],
   "source": [
    "from sklearn.metrics import ConfusionMatrixDisplay\n",
    "ConfusionMatrixDisplay.from_predictions(y_test, y_pred)"
   ]
  },
  {
   "cell_type": "code",
   "execution_count": null,
   "id": "a4ece6ac-3d32-41c6-8996-496cd534f94d",
   "metadata": {},
   "outputs": [
    {
     "name": "stdout",
     "output_type": "stream",
     "text": [
      "The Mean Squared Error is: 0.1311680199875078\n",
      "The R Square Score is: 0.4753277153558052\n"
     ]
    }
   ],
   "source": [
    "# calculating the root mean squared error - Decision tree\n",
    "mse = mean_squared_error(y_test,y_pred)\n",
    "print(f\"The Mean Squared Error is: {mse}\")\n",
    "\n",
    "#calculation the R squared score\n",
    "r2 = r2_score(y_test,y_pred)\n",
    "print(f\"The R Square Score is: {r2}\")"
   ]
  },
  {
   "cell_type": "markdown",
   "id": "034d25b7-bca2-4ea3-8192-ab734b89a25b",
   "metadata": {},
   "source": [
    "# GRAPHS"
   ]
  },
  {
   "cell_type": "code",
   "execution_count": null,
   "id": "732e8a1e-9e72-46eb-9aac-9a0a51ea8254",
   "metadata": {},
   "outputs": [
    {
     "data": {
      "image/png": "[encoded data removed]",
      "text/plain": [
       "<Figure size 640x480 with 1 Axes>"
      ]
     },
     "metadata": {},
     "output_type": "display_data"
    }
   ],
   "source": [
    "# Plotting class distribution for imbalanced data\n",
    "import matplotlib.pyplot as plt\n",
    "import seaborn as sns\n",
    "\n",
    "# Count the occurrences of each class\n",
    "class_counts = df['default_status'].value_counts()\n",
    "colors = ['#1f77b4', '#ff7f0e']\n",
    "\n",
    "# Plot the bar graph\n",
    "sns.barplot(x=class_counts.index.astype(str), y=class_counts.values, hue=class_counts.index.astype(str), palette=colors,legend=False)\n",
    "plt.xlabel('Default Status')\n",
    "plt.ylabel('Number of Cases')\n",
    "plt.title('Class Distribution of Default Status')\n",
    "plt.show()"
   ]
  },
  {
   "cell_type": "code",
   "execution_count": null,
   "id": "ed8fa72a-d65c-4051-bd8d-123e3a038703",
   "metadata": {},
   "outputs": [
    {
     "data": {
      "image/png": "[encoded data removed]",
      "text/plain": [
       "<Figure size 640x480 with 1 Axes>"
      ]
     },
     "metadata": {},
     "output_type": "display_data"
    }
   ],
   "source": [
    "sns.countplot(x=y,color='#5eff33')\n",
    "plt.title(\"Class Distribution After Balancing\")\n",
    "plt.xlabel(\"Default Status\")\n",
    "plt.ylabel(\"Number of Cases\")\n",
    "plt.show()"
   ]
  },
  {
   "cell_type": "code",
   "execution_count": null,
   "id": "843a4833-77cd-4126-8c85-b09b15c02d46",
   "metadata": {},
   "outputs": [
    {
     "data": {
      "image/png": "[encoded data removed]",
      "text/plain": [
       "<Figure size 640x480 with 1 Axes>"
      ]
     },
     "metadata": {},
     "output_type": "display_data"
    }
   ],
   "source": [
    "sns.countplot(x=y_pred, color='#ffff00')\n",
    "plt.title(\"Final Predictions on Balanced Test Set\")\n",
    "plt.xlabel(\"Default Status\")\n",
    "plt.ylabel(\"Number of Cases\")\n",
    "plt.show()"
   ]
  },
  {
   "cell_type": "code",
   "execution_count": null,
   "id": "351ab780-2216-4f33-9e46-af2926658365",
   "metadata": {},
   "outputs": [],
   "source": [
    "from joblib import dump"
   ]
  },
  {
   "cell_type": "code",
   "execution_count": null,
   "id": "4a73b002-b554-4844-8548-35971603d488",
   "metadata": {},
   "outputs": [
    {
     "data": {
      "text/plain": [
       "['model/model.pkl']"
      ]
     },
     "execution_count": 56,
     "metadata": {},
     "output_type": "execute_result"
    }
   ],
   "source": [
    "# model is your trained estimator\n",
    "dump(model,'model/model.pkl')"
   ]
  },
  {
   "cell_type": "code",
   "execution_count": null,
   "id": "bb0d608b-854a-442f-8ac7-83e5b2c4752c",
   "metadata": {},
   "outputs": [],
   "source": []
  }
 ],
 "metadata": {
  "kernelspec": {
   "display_name": "Python 3",
   "language": "python",
   "name": "python3"
  },
  "language_info": {
   "codemirror_mode": {
    "name": "ipython",
    "version": 3
   },
   "file_extension": ".py",
   "mimetype": "text/x-python",
   "name": "python",
   "nbconvert_exporter": "python",
   "pygments_lexer": "ipython3",
   "version": "3.13.2"
  }
 },
 "nbformat": 4,
 "nbformat_minor": 5
}
